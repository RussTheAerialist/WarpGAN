{
  "nbformat": 4,
  "nbformat_minor": 0,
  "metadata": {
    "colab": {
      "name": "WarpGAN.ipynb",
      "provenance": [],
      "private_outputs": true,
      "collapsed_sections": [],
      "toc_visible": true,
      "authorship_tag": "ABX9TyP+p9tx3GWrVvQxJmqjUUlR",
      "include_colab_link": true
    },
    "kernelspec": {
      "name": "python3",
      "display_name": "Python 3"
    },
    "accelerator": "GPU"
  },
  "cells": [
    {
      "cell_type": "markdown",
      "metadata": {
        "id": "view-in-github",
        "colab_type": "text"
      },
      "source": [
        "<a href=\"https://colab.research.google.com/github/RussTheAerialist/WarpGAN/blob/master/WarpGAN.ipynb\" target=\"_parent\"><img src=\"https://colab.research.google.com/assets/colab-badge.svg\" alt=\"Open In Colab\"/></a>"
      ]
    },
    {
      "cell_type": "markdown",
      "metadata": {
        "id": "XByRPecYrFd7",
        "colab_type": "text"
      },
      "source": [
        "# Overview\n",
        "\n",
        "warpGAN photo to charicature based on https://paperswithcode.com/paper/warpgan-automatic-caricature-generation\n",
        "\n",
        "Using the implementation from https://github.com/seasonSH/WarpGAN"
      ]
    },
    {
      "cell_type": "markdown",
      "metadata": {
        "id": "D4kyzRRrri81",
        "colab_type": "text"
      },
      "source": [
        "## Setup\n",
        "\n",
        "Run these in order that they are shown to setup the system"
      ]
    },
    {
      "cell_type": "code",
      "metadata": {
        "id": "v9Z8GG29tDKg",
        "colab_type": "code",
        "colab": {}
      },
      "source": [
        "# Setup Compatibility\n",
        "%tensorflow_version 1.x\n",
        "import tensorflow\n",
        "print(tensorflow.__version__)"
      ],
      "execution_count": null,
      "outputs": []
    },
    {
      "cell_type": "code",
      "metadata": {
        "id": "M9G-MZzbzZxf",
        "colab_type": "code",
        "colab": {}
      },
      "source": [
        "# Install Dependencies\n",
        "\n",
        "# The default scipy that is installed with colab removes imread from scipy.misc\n",
        "# which is required by WarpGAN until I can figure out how to fix that.\n",
        "# NOTE: This may ask you to restart the runtime.\n",
        "!pip install scipy==1.2"
      ],
      "execution_count": null,
      "outputs": []
    },
    {
      "cell_type": "code",
      "metadata": {
        "id": "2AP2KOARqsjl",
        "colab_type": "code",
        "colab": {}
      },
      "source": [
        "# Connect to Google Drive\n",
        "from google.colab import drive\n",
        "drive.mount('/content/drive')"
      ],
      "execution_count": null,
      "outputs": []
    },
    {
      "cell_type": "code",
      "metadata": {
        "id": "nULlZRy7r0yN",
        "colab_type": "code",
        "colab": {}
      },
      "source": [
        "# Checkout the code and scripts\n",
        "# !git clone https://github.com/seasonSH/WarpGAN.git <-- Original Source, but needs to patch to work with 1.15\n",
        "# !rm -rf /content/WarpGAN\n",
        "!git clone https://github.com/RussTheAerialist/WarpGAN.git\n",
        "!cp \"/content/drive/My Drive/colab-data/warpGAN/generate.sh\" /content/\n",
        "!mkdir -p /content/uploads"
      ],
      "execution_count": null,
      "outputs": []
    },
    {
      "cell_type": "code",
      "metadata": {
        "id": "nh_zQgrDsDRQ",
        "colab_type": "code",
        "colab": {}
      },
      "source": [
        "# Copy Training Data\n",
        "!cp \"/content/drive/My Drive/colab-data/warpGAN/warpgan_pretrained.zip\" /content/\n",
        "\n",
        "# Unzip Training Data\n",
        "!unzip /content/warpgan_pretrained.zip -d /content/WarpGAN/pretrained/"
      ],
      "execution_count": null,
      "outputs": []
    },
    {
      "cell_type": "markdown",
      "metadata": {
        "id": "6PxTID12xi5J",
        "colab_type": "text"
      },
      "source": [
        "## Generate Images"
      ]
    },
    {
      "cell_type": "code",
      "metadata": {
        "id": "UapzjrG6t29Z",
        "colab_type": "code",
        "colab": {}
      },
      "source": [
        "# Upload Images to use for generation (This isn't working...)\n",
        "\n",
        "def upload_files():\n",
        "  from google.colab import files\n",
        "  uploaded = files.upload()\n",
        "  for k, v in uploaded.items():\n",
        "    print(\"{} uploaded\".format(k))\n",
        "    open(k, 'wb').write(v)\n",
        "  return list(uploaded.keys())\n",
        "\n",
        "  files = upload_files()"
      ],
      "execution_count": null,
      "outputs": []
    },
    {
      "cell_type": "code",
      "metadata": {
        "id": "OzZTKe1wt69-",
        "colab_type": "code",
        "colab": {}
      },
      "source": [
        "# For each file, apply WarpGAN and display output\n",
        "# The argument for generate is the number of images from each input to generate\n",
        "!rm -f /content/WarpGAN/result/*\n",
        "!bash /content/generate.sh 10"
      ],
      "execution_count": null,
      "outputs": []
    },
    {
      "cell_type": "code",
      "metadata": {
        "id": "k9tMNdevuChM",
        "colab_type": "code",
        "colab": {}
      },
      "source": [
        "# Save files to google drive\n",
        "!zip  /content/result.zip /content/WarpGAN/result/*\n",
        "!cp /content/result.zip \"/content/drive/My Drive/colab-data/warpGAN/\""
      ],
      "execution_count": null,
      "outputs": []
    },
    {
      "cell_type": "code",
      "metadata": {
        "id": "ej3p87zy5-JF",
        "colab_type": "code",
        "colab": {}
      },
      "source": [
        ""
      ],
      "execution_count": null,
      "outputs": []
    }
  ]
}